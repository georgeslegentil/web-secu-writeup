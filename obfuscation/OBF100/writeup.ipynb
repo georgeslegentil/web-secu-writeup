{
 "cells": [
  {
   "attachments": {},
   "cell_type": "markdown",
   "metadata": {},
   "source": [
    "# OBF100\n",
    "> points : 50"
   ]
  },
  {
   "attachments": {},
   "cell_type": "markdown",
   "metadata": {},
   "source": [
    "**On récupère le code qui check le mot de passe**\n",
    "\n",
    "```\n",
    "var _0xf7f7 = [\n",
    "    \"\\x67\\x67\\x65\\x7A\",\n",
    "    \"\\x45\\x6E\\x74\\x65\\x72\\x20\\x74\\x68\\x65\\x20\\x66\\x6C\\x61\\x67\\x20\\x3A\\x20\",\n",
    "    \"\\x70\\x72\\x6F\\x6D\\x70\\x74\",\n",
    "    \"\\x43\\x6F\\x6E\\x67\\x72\\x61\\x74\\x73\\x20\\x21\\x20\\x59\\x6F\\x75\\x20\\x63\\x61\\x6E\\x20\\x76\\x61\\x6C\\x69\\x64\\x61\\x74\\x65\\x20\\x74\\x68\\x69\\x73\\x20\\x63\\x68\\x61\\x6C\\x6C\\x65\\x6E\\x67\\x65\\x20\\x77\\x69\\x74\\x68\\x20\\x74\\x68\\x65\\x20\\x66\\x6C\\x61\\x67\\x20\\x42\\x43\\x53\\x7B\",\n",
    "    \"\\x7D\",\n",
    "    \"\\x57\\x68\\x61\\x74\\x20\\x69\\x73\\x20\\x74\\x68\\x69\\x73\\x20\\x6D\\x61\\x6E\\x20\\x3F\\x20\\x47\\x65\\x74\\x20\\x79\\x6F\\x75\\x72\\x20\\x73\\x68\\x69\\x74\\x20\\x74\\x6F\\x67\\x65\\x74\\x68\\x65\\x72\\x2E\\x20\\x51\\x75\\x69\\x63\\x6B\\x6C\\x79\\x2E\"\n",
    "];\n",
    "var password = _0xf7f7[0];\n",
    "var input = window[_0xf7f7[2]](_0xf7f7[1]);\n",
    "if (password === input) {\n",
    "    alert(_0xf7f7[3] + input + _0xf7f7[4]);\n",
    "} else {\n",
    "    alert(_0xf7f7[5]);\n",
    "}\n",
    "\n",
    "```"
   ]
  },
  {
   "attachments": {},
   "cell_type": "markdown",
   "metadata": {},
   "source": [
    "### Première analyse\n",
    "\n",
    "- On a un tableau de valeur en hexadécimal\n",
    "- Le mot de passe est égale au premier élément de ce tableau"
   ]
  },
  {
   "attachments": {},
   "cell_type": "markdown",
   "metadata": {},
   "source": [
    "### Solution\n",
    "\n",
    "On va traduire l'hexa en ascii pour le confort   \n",
    "Même si entrer le mot de passe directement en héxa fonctionne aussi bien"
   ]
  },
  {
   "cell_type": "code",
   "execution_count": 3,
   "metadata": {},
   "outputs": [
    {
     "name": "stdout",
     "output_type": "stream",
     "text": [
      "['ggez', 'Enter the flag : ', 'prompt', 'Congrats ! You can validate this challenge with the flag BCS{', '}', 'What is this man ? Get your shit together. Quickly.']\n"
     ]
    }
   ],
   "source": [
    "_0xf7f7 = [\n",
    "    \"\\x67\\x67\\x65\\x7A\",\n",
    "    \"\\x45\\x6E\\x74\\x65\\x72\\x20\\x74\\x68\\x65\\x20\\x66\\x6C\\x61\\x67\\x20\\x3A\\x20\",\n",
    "    \"\\x70\\x72\\x6F\\x6D\\x70\\x74\",\n",
    "    \"\\x43\\x6F\\x6E\\x67\\x72\\x61\\x74\\x73\\x20\\x21\\x20\\x59\\x6F\\x75\\x20\\x63\\x61\\x6E\\x20\\x76\\x61\\x6C\\x69\\x64\\x61\\x74\\x65\\x20\\x74\\x68\\x69\\x73\\x20\\x63\\x68\\x61\\x6C\\x6C\\x65\\x6E\\x67\\x65\\x20\\x77\\x69\\x74\\x68\\x20\\x74\\x68\\x65\\x20\\x66\\x6C\\x61\\x67\\x20\\x42\\x43\\x53\\x7B\",\n",
    "    \"\\x7D\",\n",
    "    \"\\x57\\x68\\x61\\x74\\x20\\x69\\x73\\x20\\x74\\x68\\x69\\x73\\x20\\x6D\\x61\\x6E\\x20\\x3F\\x20\\x47\\x65\\x74\\x20\\x79\\x6F\\x75\\x72\\x20\\x73\\x68\\x69\\x74\\x20\\x74\\x6F\\x67\\x65\\x74\\x68\\x65\\x72\\x2E\\x20\\x51\\x75\\x69\\x63\\x6B\\x6C\\x79\\x2E\"\n",
    "]\n",
    "print(_0xf7f7)\n"
   ]
  },
  {
   "attachments": {},
   "cell_type": "markdown",
   "metadata": {},
   "source": [
    "Le premier élément est donc **\"\\x67\\x67\\x65\\x7A\"** donc **ggez**"
   ]
  },
  {
   "attachments": {},
   "cell_type": "markdown",
   "metadata": {},
   "source": [
    "On entre le mot de passe dans l'input et on obtient le flag"
   ]
  },
  {
   "attachments": {},
   "cell_type": "markdown",
   "metadata": {},
   "source": [
    "### Flag\n",
    "\n",
    "Le flag est donc - "
   ]
  }
 ],
 "metadata": {
  "kernelspec": {
   "display_name": ".venv",
   "language": "python",
   "name": "python3"
  },
  "language_info": {
   "codemirror_mode": {
    "name": "ipython",
    "version": 3
   },
   "file_extension": ".py",
   "mimetype": "text/x-python",
   "name": "python",
   "nbconvert_exporter": "python",
   "pygments_lexer": "ipython3",
   "version": "3.9.13"
  },
  "orig_nbformat": 4,
  "vscode": {
   "interpreter": {
    "hash": "32dd59e9d9f0c4e0326cf96a9a56efb405dccc2be67dca9d03b974ee0c764ba9"
   }
  }
 },
 "nbformat": 4,
 "nbformat_minor": 2
}
